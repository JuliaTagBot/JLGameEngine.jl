{
 "cells": [
  {
   "cell_type": "code",
   "execution_count": null,
   "metadata": {},
   "outputs": [],
   "source": [
    "include(\"../src/JLGameEngine.jl\")"
   ]
  },
  {
   "cell_type": "code",
   "execution_count": null,
   "metadata": {},
   "outputs": [],
   "source": [
    "engine = JLGameEngine.InitialiseEngine(\"Basic\", (640,640))\n",
    "\n",
    "shader = JLGameEngine.CreateShader(\"BaseShader\", \"../shaders/baseVert.vert\", \"../shaders/baseFrag.frag\", [\"uPos\", \"uColour\"])\n",
    "JLGameEngine.RegisterShader(engine, shader)\n",
    "\n",
    "MinX = 0.0\n",
    "MinY = 0.0\n",
    "MaxX = 1.0\n",
    "MaxY = 1.0\n",
    "unitQuad = JLGameEngine.Point4f0[(MinX, MaxY,MinX, MaxY), (MaxX, MinY,MinX, MaxY), (MinX, MinY,MinX, MaxY), \n",
    "                    (MinX, MaxY,MinX, MaxY), (MaxX, MinY,MinX, MaxY), (MaxX, MaxY,MinX, MaxY)] # note Float32\n",
    "\n",
    "quad = JLGameEngine.CreateVertexBuffer(\"UnitQuad\", unitQuad)\n",
    "JLGameEngine.RegisterVertexData(engine, quad)\n",
    "\n",
    "entity = JLGameEngine.CreateBasicEntity()\n",
    "JLGameEngine.RegisterEntity(engine, \"Base\", entity);"
   ]
  },
  {
   "cell_type": "code",
   "execution_count": null,
   "metadata": {},
   "outputs": [],
   "source": [
    "JLGameEngine.MainEngineLoop(engine)"
   ]
  }
 ],
 "metadata": {
  "kernelspec": {
   "display_name": "Julia 1.3.1",
   "language": "julia",
   "name": "julia-1.3"
  },
  "language_info": {
   "file_extension": ".jl",
   "mimetype": "application/julia",
   "name": "julia",
   "version": "1.3.1"
  }
 },
 "nbformat": 4,
 "nbformat_minor": 4
}
