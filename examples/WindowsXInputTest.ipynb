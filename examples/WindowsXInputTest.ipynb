{
 "cells": [
  {
   "cell_type": "code",
   "execution_count": 14,
   "metadata": {},
   "outputs": [
    {
     "data": {
      "text/plain": [
       "Main.XInput"
      ]
     },
     "execution_count": 14,
     "metadata": {},
     "output_type": "execute_result"
    }
   ],
   "source": [
    "module XInput\n",
    "\n",
    "struct Buttons\n",
    "    a::Bool\n",
    "    b::Bool\n",
    "    x::Bool\n",
    "    y::Bool\n",
    "    leftStick::Bool\n",
    "    rightStick::Bool\n",
    "    leftShoulder::Bool\n",
    "    rightShoulder::Bool\n",
    "    back::Bool\n",
    "    start::Bool\n",
    "end\n",
    "\n",
    "struct DPad\n",
    "    up::Bool\n",
    "    down::Bool\n",
    "    right::Bool\n",
    "    left::Bool\n",
    "end\n",
    "\n",
    "struct Triggers\n",
    "    left::Float32\n",
    "    right::Float32\n",
    "end\n",
    "\n",
    "struct ThumbSticks\n",
    "    leftX::Float32\n",
    "    leftY::Float32\n",
    "    rightX::Float32\n",
    "    rightY::Float32\n",
    "end\n",
    "\n",
    "struct ControllerState \n",
    "    connected::Bool\n",
    "    packet::UInt64\n",
    "    buttons::Buttons\n",
    "    dpad::DPad\n",
    "    thumbSticks::ThumbSticks\n",
    "    triggers::Triggers\n",
    "end\n",
    "\n",
    "function InitialiseControllerInput()\n",
    "     return ccall((:Initialise, \"WindowsXInput.dll\"), Int32,\n",
    "                    (Int32,), 0)\n",
    "end\n",
    "\n",
    "function BeginControllerInput()\n",
    "     return ccall((:BeginControllerInput, \"WindowsXInput.dll\"), Cvoid,\n",
    "                    (Int32,), 0)\n",
    "end\n",
    "\n",
    "function EndControllerInput()\n",
    "     return ccall((:EndControllerInput, \"WindowsXInput.dll\"), Cvoid,\n",
    "                    (Int32,), 0)\n",
    "end\n",
    "\n",
    "function GetControllerState(controllerID)::ControllerState\n",
    "     return ccall((:GetControllerState, \"WindowsXInput.dll\"), ControllerState,\n",
    "                    (Int32,), controllerID)\n",
    "end\n",
    "\n",
    "export InitialiseControllerInput, BeginControllerInput, EndControllerInput, GetControllerState\n",
    "export ControllerState\n",
    "\n",
    "end\n"
   ]
  },
  {
   "cell_type": "code",
   "execution_count": 5,
   "metadata": {},
   "outputs": [
    {
     "data": {
      "text/plain": [
       "BeginControllerInput (generic function with 1 method)"
      ]
     },
     "execution_count": 5,
     "metadata": {},
     "output_type": "execute_result"
    }
   ],
   "source": [
    "struct Buttons\n",
    "    a::Bool\n",
    "    b::Bool\n",
    "    x::Bool\n",
    "    y::Bool\n",
    "    leftStick::Bool\n",
    "    rightStick::Bool\n",
    "    leftShoulder::Bool\n",
    "    rightShoulder::Bool\n",
    "    back::Bool\n",
    "    start::Bool\n",
    "end\n",
    "\n",
    "struct DPad\n",
    "    up::Bool\n",
    "    down::Bool\n",
    "    right::Bool\n",
    "    left::Bool\n",
    "end\n",
    "\n",
    "struct Triggers\n",
    "    left::Float32\n",
    "    right::Float32\n",
    "end\n",
    "\n",
    "struct ThumbSticks\n",
    "    leftX::Float32\n",
    "    leftY::Float32\n",
    "    rightX::Float32\n",
    "    rightY::Float32\n",
    "end\n",
    "\n",
    "struct ControllerState \n",
    "    connected::Bool\n",
    "    packet::UInt64\n",
    "    buttons::Buttons\n",
    "    dpad::DPad\n",
    "    thumbSticks::ThumbSticks\n",
    "    triggers::Triggers\n",
    "end\n",
    "\n",
    "\n",
    "function InitialiseControllerInput()\n",
    "     return ccall((:Initialise, \"WindowsXInput.dll\"), Int32,\n",
    "                    (Int32,), 0)\n",
    "end\n",
    "\n",
    "function BeginControllerInput()\n",
    "     return ccall((:BeginControllerInput, \"WindowsXInput.dll\"), Cvoid,\n",
    "                    (Int32,), 0)\n",
    "end\n",
    "\n",
    "function EndControllerInput()\n",
    "     return ccall((:EndControllerInput, \"WindowsXInput.dll\"), Cvoid,\n",
    "                    (Int32,), 0)\n",
    "end\n",
    "\n",
    "function GetControllerState(controllerID)\n",
    "     return ccall((:GetControllerState, \"WindowsXInput.dll\"), ControllerState,\n",
    "                    (Int32,), controllerID)\n",
    "end"
   ]
  },
  {
   "cell_type": "code",
   "execution_count": 4,
   "metadata": {},
   "outputs": [
    {
     "data": {
      "text/plain": [
       "1"
      ]
     },
     "execution_count": 4,
     "metadata": {},
     "output_type": "execute_result"
    }
   ],
   "source": [
    "Initialise()"
   ]
  },
  {
   "cell_type": "code",
   "execution_count": 6,
   "metadata": {},
   "outputs": [],
   "source": [
    "BeginControllerInput()"
   ]
  },
  {
   "cell_type": "code",
   "execution_count": 13,
   "metadata": {},
   "outputs": [
    {
     "data": {
      "text/plain": [
       "ControllerState(true, 0x000000000000006c, Buttons(false, false, false, false, false, false, false, false, false, false), DPad(false, false, true, false), ThumbSticks(0.0f0, 0.0f0, 0.0f0, 0.0f0), Triggers(0.0f0, 0.0f0))"
      ]
     },
     "execution_count": 13,
     "metadata": {},
     "output_type": "execute_result"
    }
   ],
   "source": [
    "GetControllerState(0)"
   ]
  },
  {
   "cell_type": "code",
   "execution_count": 3,
   "metadata": {},
   "outputs": [
    {
     "name": "stdout",
     "output_type": "stream",
     "text": [
      "hello\n"
     ]
    },
    {
     "data": {
      "text/plain": [
       "6"
      ]
     },
     "execution_count": 3,
     "metadata": {},
     "output_type": "execute_result"
    }
   ],
   "source": [
    "ccall(:printf, Cint, (Ptr{Cchar},), \"hello\\n\")"
   ]
  }
 ],
 "metadata": {
  "kernelspec": {
   "display_name": "Julia 1.3.1",
   "language": "julia",
   "name": "julia-1.3"
  },
  "language_info": {
   "file_extension": ".jl",
   "mimetype": "application/julia",
   "name": "julia",
   "version": "1.3.1"
  }
 },
 "nbformat": 4,
 "nbformat_minor": 4
}
